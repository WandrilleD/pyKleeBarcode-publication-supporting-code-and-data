{
 "cells": [
  {
   "cell_type": "code",
   "execution_count": 1,
   "metadata": {},
   "outputs": [],
   "source": [
    "import pandas as pd\n",
    "import numpy as np\n",
    "cladesList = [\"Afrotheria\",\"Artiodactyla\",\"Carnivora\",\"Chiroptera\",\"Dermoptera\",\"Eulipotyphla\",\"Glires\",\"Mammalia\",\"Metatheria\",\"Perissodactyla\",\"Pholidota\",\"Primates\",\"Prototheria\",\"Scandentia\",\"Xenarthra\"]\n",
    "\n",
    "refs = [\"Mammalia_ref\",\"Primates_ref\"]"
   ]
  },
  {
   "cell_type": "code",
   "execution_count": 2,
   "metadata": {},
   "outputs": [],
   "source": [
    "sid2sp = {}\n",
    "sid2tax = {}\n",
    "\n",
    "with open('sequenceList.csv','r') as IN:\n",
    "    \n",
    "    for l in IN:\n",
    "        sl=l.strip().split(';')\n",
    "        sid2sp[sl[-1]] = sl[1]\n",
    "        sid2tax[sl[-1]] = sl[0]"
   ]
  },
  {
   "cell_type": "markdown",
   "metadata": {},
   "source": [
    "The goal of this notebook is to explore the difference between the indicator vectors computed using the full mammalia reference versus the one computed using primates only, in order to compose the different elements of Fig2.\n",
    "\n",
    "# primates-only experiment\n",
    "\n",
    "## step1 compute the distances\n",
    "\n",
    "the goal here is to create a table (and associated file) containing, sequence ID, species name, taxon name, and difference distance the indicator vectors in the form of the euclidean distance and correlation\n",
    "\n",
    "The distance used will be a simple euclidean distance.\n",
    "\n",
    "> note : In general, we would be more interested in what happens in the structure matrix (ie. the correlation between indicator vectors). Nevertheless this can be interesting as well.\n"
   ]
  },
  {
   "cell_type": "code",
   "execution_count": 3,
   "metadata": {},
   "outputs": [
    {
     "name": "stdout",
     "output_type": "stream",
     "text": [
      "CPU times: user 702 ms, sys: 40.4 ms, total: 743 ms\n",
      "Wall time: 743 ms\n"
     ]
    }
   ],
   "source": [
    "%%time\n",
    "import pandas as pd\n",
    "data = { 'sequenceID': [] , 'species' : [] , 'taxon':[] ,'dist':[] , 'corr':[]}\n",
    "\n",
    "fileName = 'results/Mammalia_selected.Mammalia_selected_ref.indicVectors.csv'\n",
    "df_M = pd.read_csv(fileName, index_col=0, header=None)\n",
    "\n",
    "fileName = 'results/Mammalia_selected.Primates_selected_ref.indicVectors.csv'\n",
    "df_P = pd.read_csv(fileName, index_col=0, header=None)\n",
    "\n",
    "#check the indexes are the same\n",
    "if (df_M.index == df_P.index).mean() != 1.0:\n",
    "    print('error: index does not match between mammalian and primates indic vector lists')\n",
    "    exit(1)\n",
    "        \n",
    "## compute distance between points\n",
    "D = ((df_M - df_P)**2).sum(axis=1)\n",
    "C = (df_M * df_P).sum(axis=1)\n",
    "data['sequenceID'] += list(df_P.index)\n",
    "data['species'] += [ sid2sp[x] for x in list(df_P.index)]\n",
    "data['taxon'] += [ sid2tax[x] for x in list(df_P.index)]\n",
    "data['dist'] += list(D)\n",
    "data['corr'] += list(C)\n"
   ]
  },
  {
   "cell_type": "markdown",
   "metadata": {},
   "source": [
    "Due to the nature of how indicator vectors are computed, they can be arbitrarily multiplied by -1.\n",
    "\n",
    "That means that if we compute the correlation between indicator vectors it has a 50% chance to be negative.\n",
    "For the purpose of simiilarity between the origin sequences, only the absolute value of this correlation matters.\n"
   ]
  },
  {
   "cell_type": "code",
   "execution_count": 4,
   "metadata": {},
   "outputs": [
    {
     "data": {
      "text/html": [
       "<div>\n",
       "<style scoped>\n",
       "    .dataframe tbody tr th:only-of-type {\n",
       "        vertical-align: middle;\n",
       "    }\n",
       "\n",
       "    .dataframe tbody tr th {\n",
       "        vertical-align: top;\n",
       "    }\n",
       "\n",
       "    .dataframe thead th {\n",
       "        text-align: right;\n",
       "    }\n",
       "</style>\n",
       "<table border=\"1\" class=\"dataframe\">\n",
       "  <thead>\n",
       "    <tr style=\"text-align: right;\">\n",
       "      <th></th>\n",
       "      <th>sequenceID</th>\n",
       "      <th>species</th>\n",
       "      <th>taxon</th>\n",
       "      <th>dist</th>\n",
       "      <th>corr</th>\n",
       "      <th>Acorr</th>\n",
       "    </tr>\n",
       "  </thead>\n",
       "  <tbody>\n",
       "    <tr>\n",
       "      <th>0</th>\n",
       "      <td>GBMA6371-13</td>\n",
       "      <td>Cabassous unicinctus</td>\n",
       "      <td>Xenarthra</td>\n",
       "      <td>0.028635</td>\n",
       "      <td>0.985682</td>\n",
       "      <td>0.985682</td>\n",
       "    </tr>\n",
       "    <tr>\n",
       "      <th>1</th>\n",
       "      <td>GBMTG5358-16</td>\n",
       "      <td>Cabassous unicinctus</td>\n",
       "      <td>Xenarthra</td>\n",
       "      <td>0.027421</td>\n",
       "      <td>0.986290</td>\n",
       "      <td>0.986290</td>\n",
       "    </tr>\n",
       "    <tr>\n",
       "      <th>2</th>\n",
       "      <td>GBMNA13869-19</td>\n",
       "      <td>Cabassous unicinctus</td>\n",
       "      <td>Xenarthra</td>\n",
       "      <td>0.027421</td>\n",
       "      <td>0.986290</td>\n",
       "      <td>0.986290</td>\n",
       "    </tr>\n",
       "    <tr>\n",
       "      <th>3</th>\n",
       "      <td>GBMNA13876-19</td>\n",
       "      <td>Tolypeutes matacus</td>\n",
       "      <td>Xenarthra</td>\n",
       "      <td>0.029647</td>\n",
       "      <td>0.985177</td>\n",
       "      <td>0.985177</td>\n",
       "    </tr>\n",
       "    <tr>\n",
       "      <th>4</th>\n",
       "      <td>GBMTG5926-16</td>\n",
       "      <td>Tolypeutes matacus</td>\n",
       "      <td>Xenarthra</td>\n",
       "      <td>0.029647</td>\n",
       "      <td>0.985177</td>\n",
       "      <td>0.985177</td>\n",
       "    </tr>\n",
       "  </tbody>\n",
       "</table>\n",
       "</div>"
      ],
      "text/plain": [
       "      sequenceID               species      taxon      dist      corr  \\\n",
       "0    GBMA6371-13  Cabassous unicinctus  Xenarthra  0.028635  0.985682   \n",
       "1   GBMTG5358-16  Cabassous unicinctus  Xenarthra  0.027421  0.986290   \n",
       "2  GBMNA13869-19  Cabassous unicinctus  Xenarthra  0.027421  0.986290   \n",
       "3  GBMNA13876-19    Tolypeutes matacus  Xenarthra  0.029647  0.985177   \n",
       "4   GBMTG5926-16    Tolypeutes matacus  Xenarthra  0.029647  0.985177   \n",
       "\n",
       "      Acorr  \n",
       "0  0.985682  \n",
       "1  0.986290  \n",
       "2  0.986290  \n",
       "3  0.985177  \n",
       "4  0.985177  "
      ]
     },
     "execution_count": 4,
     "metadata": {},
     "output_type": "execute_result"
    }
   ],
   "source": [
    "df = pd.DataFrame(data)\n",
    "df['Acorr'] = df['corr'].abs()\n",
    "df.head()"
   ]
  },
  {
   "cell_type": "code",
   "execution_count": 5,
   "metadata": {},
   "outputs": [
    {
     "data": {
      "text/plain": [
       "Glires            120\n",
       "Chiroptera        120\n",
       "Primates          120\n",
       "Artiodactyla      120\n",
       "Carnivora         120\n",
       "Eulipotyphla      120\n",
       "Metatheria        117\n",
       "Xenarthra          60\n",
       "Perissodactyla     60\n",
       "Afrotheria         45\n",
       "Pholidota          21\n",
       "Scandentia         16\n",
       "Prototheria         7\n",
       "Dermoptera          3\n",
       "Name: taxon, dtype: int64"
      ]
     },
     "execution_count": 5,
     "metadata": {},
     "output_type": "execute_result"
    }
   ],
   "source": [
    "df.taxon.value_counts()\n"
   ]
  },
  {
   "cell_type": "markdown",
   "metadata": {},
   "source": [
    "## step2  : Fig2A : boxplot of absolute correlation\n",
    "\n"
   ]
  },
  {
   "cell_type": "code",
   "execution_count": 6,
   "metadata": {},
   "outputs": [
    {
     "data": {
      "text/plain": [
       "Text(0.5, 0, 'absolute pearson correlation')"
      ]
     },
     "execution_count": 6,
     "metadata": {},
     "output_type": "execute_result"
    },
    {
     "data": {
      "image/png": "[encoded data removed]",
      "text/plain": [
       "<Figure size 504x504 with 1 Axes>"
      ]
     },
     "metadata": {
      "needs_background": "light"
     },
     "output_type": "display_data"
    }
   ],
   "source": [
    "import seaborn as sns\n",
    "import matplotlib.pyplot as plt\n",
    "## let's look at absolute correlation\n",
    "fig,ax = plt.subplots(figsize=(7,7))\n",
    "sns.boxplot(x='Acorr',y='taxon', data=df,ax=ax, order=['Prototheria','Metatheria',\n",
    "                                                       'Afrotheria','Xenarthra',\n",
    "                                                       'Glires','Dermoptera','Scandentia','Primates',\n",
    "                                                       'Artiodactyla','Perissodactyla', 'Carnivora',\n",
    "                                                       'Chiroptera','Pholidota','Eulipotyphla' ])\n",
    "ax.yaxis.grid() # horizontal lines\n",
    "ax.set_xlabel(\"absolute pearson correlation\")"
   ]
  },
  {
   "cell_type": "code",
   "execution_count": 7,
   "metadata": {},
   "outputs": [
    {
     "data": {
      "text/plain": [
       "0.9814924856676619"
      ]
     },
     "execution_count": 7,
     "metadata": {},
     "output_type": "execute_result"
    }
   ],
   "source": [
    "df.Acorr.min()"
   ]
  },
  {
   "cell_type": "code",
   "execution_count": 8,
   "metadata": {},
   "outputs": [
    {
     "data": {
      "text/plain": [
       "taxon\n",
       "Primates          0.985609\n",
       "Xenarthra         0.985894\n",
       "Glires            0.985922\n",
       "Pholidota         0.985987\n",
       "Artiodactyla      0.986017\n",
       "Carnivora         0.986078\n",
       "Dermoptera        0.986185\n",
       "Perissodactyla    0.986343\n",
       "Metatheria        0.986647\n",
       "Scandentia        0.986813\n",
       "Chiroptera        0.986934\n",
       "Afrotheria        0.987489\n",
       "Prototheria       0.988043\n",
       "Eulipotyphla      0.988134\n",
       "Name: Acorr, dtype: float64"
      ]
     },
     "execution_count": 8,
     "metadata": {},
     "output_type": "execute_result"
    }
   ],
   "source": [
    "M = df.groupby('taxon').Acorr.mean()\n",
    "M.sort_values()"
   ]
  },
  {
   "cell_type": "markdown",
   "metadata": {},
   "source": [
    "So, everything is >0.98.."
   ]
  },
  {
   "cell_type": "markdown",
   "metadata": {},
   "source": [
    "\n",
    "# no-laurasiatheria experiment\n",
    "\n",
    "## step1 compute the distances\n",
    "\n",
    "the goal here is to create a table (and associated file) containing, sequence ID, species name, taxon name, and difference distance the indicator vectors in the form of the euclidean distance and correlation\n",
    "\n",
    "The distance used will be a simple euclidean distance.\n",
    "\n",
    "> note : In general, we would be more interested in what happens in the structure matrix (ie. the correlation between indicator vectors). Nevertheless this can be interesting as well.\n"
   ]
  },
  {
   "cell_type": "code",
   "execution_count": 9,
   "metadata": {},
   "outputs": [
    {
     "name": "stdout",
     "output_type": "stream",
     "text": [
      "CPU times: user 815 ms, sys: 19.5 ms, total: 834 ms\n",
      "Wall time: 833 ms\n"
     ]
    }
   ],
   "source": [
    "%%time\n",
    "import pandas as pd\n",
    "data = { 'sequenceID': [] , 'species' : [] , 'taxon':[] ,'dist':[] , 'corr':[]}\n",
    "\n",
    "fileName = 'results/Mammalia_selected.Mammalia_selected_ref.indicVectors.csv'\n",
    "df_M = pd.read_csv(fileName, index_col=0, header=None)\n",
    "\n",
    "fileName = 'results/Mammalia_selected.noLaurasiaTheria_selected_ref.indicVectors.csv'\n",
    "df_P = pd.read_csv(fileName, index_col=0, header=None)\n",
    "\n",
    "#check the indexes are the same\n",
    "if (df_M.index == df_P.index).mean() != 1.0:\n",
    "    print('error: index does not match between mammalian and primates indic vector lists')\n",
    "    exit(1)\n",
    "        \n",
    "## compute distance between points\n",
    "D = ((df_M - df_P)**2).sum(axis=1)\n",
    "C = (df_M * df_P).sum(axis=1)\n",
    "data['sequenceID'] += list(df_P.index)\n",
    "data['species'] += [ sid2sp[x] for x in list(df_P.index)]\n",
    "data['taxon'] += [ sid2tax[x] for x in list(df_P.index)]\n",
    "data['dist'] += list(D)\n",
    "data['corr'] += list(C)\n"
   ]
  },
  {
   "cell_type": "code",
   "execution_count": 10,
   "metadata": {},
   "outputs": [
    {
     "data": {
      "text/html": [
       "<div>\n",
       "<style scoped>\n",
       "    .dataframe tbody tr th:only-of-type {\n",
       "        vertical-align: middle;\n",
       "    }\n",
       "\n",
       "    .dataframe tbody tr th {\n",
       "        vertical-align: top;\n",
       "    }\n",
       "\n",
       "    .dataframe thead th {\n",
       "        text-align: right;\n",
       "    }\n",
       "</style>\n",
       "<table border=\"1\" class=\"dataframe\">\n",
       "  <thead>\n",
       "    <tr style=\"text-align: right;\">\n",
       "      <th></th>\n",
       "      <th>sequenceID</th>\n",
       "      <th>species</th>\n",
       "      <th>taxon</th>\n",
       "      <th>dist</th>\n",
       "      <th>corr</th>\n",
       "      <th>Acorr</th>\n",
       "    </tr>\n",
       "  </thead>\n",
       "  <tbody>\n",
       "    <tr>\n",
       "      <th>0</th>\n",
       "      <td>GBMA6371-13</td>\n",
       "      <td>Cabassous unicinctus</td>\n",
       "      <td>Xenarthra</td>\n",
       "      <td>0.004112</td>\n",
       "      <td>0.997944</td>\n",
       "      <td>0.997944</td>\n",
       "    </tr>\n",
       "    <tr>\n",
       "      <th>1</th>\n",
       "      <td>GBMTG5358-16</td>\n",
       "      <td>Cabassous unicinctus</td>\n",
       "      <td>Xenarthra</td>\n",
       "      <td>0.004025</td>\n",
       "      <td>0.997987</td>\n",
       "      <td>0.997987</td>\n",
       "    </tr>\n",
       "    <tr>\n",
       "      <th>2</th>\n",
       "      <td>GBMNA13869-19</td>\n",
       "      <td>Cabassous unicinctus</td>\n",
       "      <td>Xenarthra</td>\n",
       "      <td>0.004025</td>\n",
       "      <td>0.997987</td>\n",
       "      <td>0.997987</td>\n",
       "    </tr>\n",
       "    <tr>\n",
       "      <th>3</th>\n",
       "      <td>GBMNA13876-19</td>\n",
       "      <td>Tolypeutes matacus</td>\n",
       "      <td>Xenarthra</td>\n",
       "      <td>0.004904</td>\n",
       "      <td>0.997548</td>\n",
       "      <td>0.997548</td>\n",
       "    </tr>\n",
       "    <tr>\n",
       "      <th>4</th>\n",
       "      <td>GBMTG5926-16</td>\n",
       "      <td>Tolypeutes matacus</td>\n",
       "      <td>Xenarthra</td>\n",
       "      <td>0.004904</td>\n",
       "      <td>0.997548</td>\n",
       "      <td>0.997548</td>\n",
       "    </tr>\n",
       "  </tbody>\n",
       "</table>\n",
       "</div>"
      ],
      "text/plain": [
       "      sequenceID               species      taxon      dist      corr  \\\n",
       "0    GBMA6371-13  Cabassous unicinctus  Xenarthra  0.004112  0.997944   \n",
       "1   GBMTG5358-16  Cabassous unicinctus  Xenarthra  0.004025  0.997987   \n",
       "2  GBMNA13869-19  Cabassous unicinctus  Xenarthra  0.004025  0.997987   \n",
       "3  GBMNA13876-19    Tolypeutes matacus  Xenarthra  0.004904  0.997548   \n",
       "4   GBMTG5926-16    Tolypeutes matacus  Xenarthra  0.004904  0.997548   \n",
       "\n",
       "      Acorr  \n",
       "0  0.997944  \n",
       "1  0.997987  \n",
       "2  0.997987  \n",
       "3  0.997548  \n",
       "4  0.997548  "
      ]
     },
     "execution_count": 10,
     "metadata": {},
     "output_type": "execute_result"
    }
   ],
   "source": [
    "df = pd.DataFrame(data)\n",
    "df['Acorr'] = df['corr'].abs()\n",
    "df.head()"
   ]
  },
  {
   "cell_type": "code",
   "execution_count": 11,
   "metadata": {
    "scrolled": true
   },
   "outputs": [
    {
     "data": {
      "text/plain": [
       "Glires            120\n",
       "Chiroptera        120\n",
       "Primates          120\n",
       "Artiodactyla      120\n",
       "Carnivora         120\n",
       "Eulipotyphla      120\n",
       "Metatheria        117\n",
       "Xenarthra          60\n",
       "Perissodactyla     60\n",
       "Afrotheria         45\n",
       "Pholidota          21\n",
       "Scandentia         16\n",
       "Prototheria         7\n",
       "Dermoptera          3\n",
       "Name: taxon, dtype: int64"
      ]
     },
     "execution_count": 11,
     "metadata": {},
     "output_type": "execute_result"
    }
   ],
   "source": [
    "df.taxon.value_counts()\n"
   ]
  },
  {
   "cell_type": "markdown",
   "metadata": {},
   "source": [
    "## step2  : Fig2B : boxplot of absolute correlation\n",
    "\n"
   ]
  },
  {
   "cell_type": "code",
   "execution_count": 12,
   "metadata": {},
   "outputs": [
    {
     "data": {
      "text/plain": [
       "Text(0.5, 0, 'absolute pearson correlation')"
      ]
     },
     "execution_count": 12,
     "metadata": {},
     "output_type": "execute_result"
    },
    {
     "data": {
      "image/png": "[encoded data removed]",
      "text/plain": [
       "<Figure size 504x504 with 1 Axes>"
      ]
     },
     "metadata": {
      "needs_background": "light"
     },
     "output_type": "display_data"
    }
   ],
   "source": [
    "import seaborn as sns\n",
    "import matplotlib.pyplot as plt\n",
    "## let's look at absolute correlation\n",
    "fig,ax = plt.subplots(figsize=(7,7))\n",
    "sns.boxplot(x='Acorr',y='taxon', data=df,ax=ax, order=['Prototheria','Metatheria',\n",
    "                                                       'Afrotheria','Xenarthra',\n",
    "                                                       'Glires','Dermoptera','Scandentia','Primates',\n",
    "                                                       'Artiodactyla','Perissodactyla', 'Carnivora',\n",
    "                                                       'Chiroptera','Pholidota','Eulipotyphla' ])\n",
    "ax.yaxis.grid() # horizontal lines\n",
    "ax.set_xlabel(\"absolute pearson correlation\")"
   ]
  },
  {
   "cell_type": "code",
   "execution_count": 13,
   "metadata": {},
   "outputs": [
    {
     "data": {
      "text/plain": [
       "taxon\n",
       "Glires            0.997610\n",
       "Metatheria        0.997736\n",
       "Carnivora         0.997803\n",
       "Xenarthra         0.997810\n",
       "Scandentia        0.997811\n",
       "Artiodactyla      0.997824\n",
       "Perissodactyla    0.997838\n",
       "Pholidota         0.997879\n",
       "Dermoptera        0.997914\n",
       "Chiroptera        0.997958\n",
       "Afrotheria        0.997970\n",
       "Eulipotyphla      0.997995\n",
       "Prototheria       0.998000\n",
       "Primates          0.998024\n",
       "Name: Acorr, dtype: float64"
      ]
     },
     "execution_count": 13,
     "metadata": {},
     "output_type": "execute_result"
    }
   ],
   "source": [
    "M = df.groupby(\"taxon\").Acorr.mean()\n",
    "M.sort_values()"
   ]
  },
  {
   "cell_type": "code",
   "execution_count": 14,
   "metadata": {},
   "outputs": [
    {
     "data": {
      "text/plain": [
       "0.9972211614069147"
      ]
     },
     "execution_count": 14,
     "metadata": {},
     "output_type": "execute_result"
    }
   ],
   "source": [
    "df.Acorr.min()"
   ]
  },
  {
   "cell_type": "markdown",
   "metadata": {},
   "source": [
    "So, everything is >0.997"
   ]
  },
  {
   "cell_type": "markdown",
   "metadata": {},
   "source": [
    "Let's check if the correlations tend to be worst in laurasiatheria."
   ]
  },
  {
   "cell_type": "code",
   "execution_count": 15,
   "metadata": {},
   "outputs": [
    {
     "data": {
      "text/plain": [
       "MannwhitneyuResult(statistic=168020.0, pvalue=1.997735730091749e-10)"
      ]
     },
     "execution_count": 15,
     "metadata": {},
     "output_type": "execute_result"
    }
   ],
   "source": [
    "laurasiatheria = df.taxon.isin(['Artiodactyla','Perissodactyla', 'Carnivora','Chiroptera','Pholidota','Eulipotyphla'])\n",
    "\n",
    "import scipy.stats as stats\n",
    "\n",
    "stats.mannwhitneyu( df.Acorr[laurasiatheria] , df.Acorr[~laurasiatheria] )\n"
   ]
  },
  {
   "cell_type": "code",
   "execution_count": 16,
   "metadata": {},
   "outputs": [
    {
     "data": {
      "text/plain": [
       "<AxesSubplot:xlabel='Acorr', ylabel='taxon'>"
      ]
     },
     "execution_count": 16,
     "metadata": {},
     "output_type": "execute_result"
    },
    {
     "data": {
      "image/png": "[encoded data removed]",
      "text/plain": [
       "<Figure size 432x288 with 1 Axes>"
      ]
     },
     "metadata": {
      "needs_background": "light"
     },
     "output_type": "display_data"
    }
   ],
   "source": [
    "sns.boxplot(x='Acorr', y=laurasiatheria.astype(str), data=df)"
   ]
  },
  {
   "cell_type": "code",
   "execution_count": 17,
   "metadata": {},
   "outputs": [
    {
     "data": {
      "text/plain": [
       "taxon\n",
       "False    0.997778\n",
       "True     0.997889\n",
       "Name: Acorr, dtype: float64"
      ]
     },
     "execution_count": 17,
     "metadata": {},
     "output_type": "execute_result"
    }
   ],
   "source": [
    "df.groupby(laurasiatheria).Acorr.median()"
   ]
  },
  {
   "cell_type": "code",
   "execution_count": 18,
   "metadata": {},
   "outputs": [
    {
     "data": {
      "text/plain": [
       "0.00012499999999993072"
      ]
     },
     "execution_count": 18,
     "metadata": {},
     "output_type": "execute_result"
    }
   ],
   "source": [
    "0.998069 - 0.997944"
   ]
  },
  {
   "cell_type": "markdown",
   "metadata": {},
   "source": [
    "So there is support toward a difference, but it would not appear to be very large."
   ]
  },
  {
   "cell_type": "markdown",
   "metadata": {},
   "source": [
    "# Fig2C randomly missing elements\n"
   ]
  },
  {
   "cell_type": "code",
   "execution_count": 19,
   "metadata": {},
   "outputs": [],
   "source": [
    "pmissing2N = {90:105,80: 210,70: 315,60: 420,50: 525,40: 629,30: 734,20: 839,10: 944}\n"
   ]
  },
  {
   "cell_type": "code",
   "execution_count": 20,
   "metadata": {},
   "outputs": [
    {
     "name": "stdout",
     "output_type": "stream",
     "text": [
      "CPU times: user 34.9 s, sys: 1.32 s, total: 36.3 s\n",
      "Wall time: 36.2 s\n"
     ]
    }
   ],
   "source": [
    "%%time\n",
    "import pandas as pd\n",
    "data = { 'sequenceID': [] , 'species' : [] , 'taxon':[] ,'dist':[] , \n",
    "        'corr':[] , 'pmissing':[] , 'N':[] , 'rep':[]}\n",
    "\n",
    "fileName = 'results/Mammalia_selected.Mammalia_selected_ref.indicVectors.csv'\n",
    "df_M = pd.read_csv(fileName, index_col=0, header=None)\n",
    "\n",
    "for pmissing in pmissing2N:\n",
    "    for rep in range(10):\n",
    "        fileName = 'results_random_exp/random{0}_{1}/Mammalia_selected.random{0}_{1}_ref.indicVectors.csv'.format(pmissing2N[pmissing] , rep)\n",
    "        df_P = pd.read_csv(fileName, index_col=0, header=None)\n",
    "\n",
    "        #check the indexes are the same\n",
    "        if (df_M.index == df_P.index).mean() != 1.0:\n",
    "            print('error: index does not match between mammalian and random indic vector lists')\n",
    "            exit(1)\n",
    "\n",
    "        ## compute distance between points\n",
    "        D = ((df_M - df_P)**2).sum(axis=1)\n",
    "        C = (df_M * df_P).sum(axis=1)\n",
    "        data['sequenceID'] += list(df_P.index)\n",
    "        data['species'] += [ sid2sp[x] for x in list(df_P.index)]\n",
    "        data['taxon'] += [ sid2tax[x] for x in list(df_P.index)]\n",
    "        data['dist'] += list(D)\n",
    "        data['corr'] += list(C)\n",
    "        data['pmissing'] += [ pmissing ] * len(D)\n",
    "        data['N'] += [ pmissing2N[pmissing] ] * len(D)\n",
    "        data['rep'] += [rep] * len(D)"
   ]
  },
  {
   "cell_type": "code",
   "execution_count": 21,
   "metadata": {},
   "outputs": [
    {
     "data": {
      "text/html": [
       "<div>\n",
       "<style scoped>\n",
       "    .dataframe tbody tr th:only-of-type {\n",
       "        vertical-align: middle;\n",
       "    }\n",
       "\n",
       "    .dataframe tbody tr th {\n",
       "        vertical-align: top;\n",
       "    }\n",
       "\n",
       "    .dataframe thead th {\n",
       "        text-align: right;\n",
       "    }\n",
       "</style>\n",
       "<table border=\"1\" class=\"dataframe\">\n",
       "  <thead>\n",
       "    <tr style=\"text-align: right;\">\n",
       "      <th></th>\n",
       "      <th>sequenceID</th>\n",
       "      <th>species</th>\n",
       "      <th>taxon</th>\n",
       "      <th>dist</th>\n",
       "      <th>corr</th>\n",
       "      <th>pmissing</th>\n",
       "      <th>N</th>\n",
       "      <th>rep</th>\n",
       "      <th>Acorr</th>\n",
       "    </tr>\n",
       "  </thead>\n",
       "  <tbody>\n",
       "    <tr>\n",
       "      <th>0</th>\n",
       "      <td>GBMA6371-13</td>\n",
       "      <td>Cabassous unicinctus</td>\n",
       "      <td>Xenarthra</td>\n",
       "      <td>0.001599</td>\n",
       "      <td>0.999201</td>\n",
       "      <td>90</td>\n",
       "      <td>105</td>\n",
       "      <td>0</td>\n",
       "      <td>0.999201</td>\n",
       "    </tr>\n",
       "    <tr>\n",
       "      <th>1</th>\n",
       "      <td>GBMTG5358-16</td>\n",
       "      <td>Cabassous unicinctus</td>\n",
       "      <td>Xenarthra</td>\n",
       "      <td>0.001575</td>\n",
       "      <td>0.999213</td>\n",
       "      <td>90</td>\n",
       "      <td>105</td>\n",
       "      <td>0</td>\n",
       "      <td>0.999213</td>\n",
       "    </tr>\n",
       "    <tr>\n",
       "      <th>2</th>\n",
       "      <td>GBMNA13869-19</td>\n",
       "      <td>Cabassous unicinctus</td>\n",
       "      <td>Xenarthra</td>\n",
       "      <td>0.001575</td>\n",
       "      <td>0.999213</td>\n",
       "      <td>90</td>\n",
       "      <td>105</td>\n",
       "      <td>0</td>\n",
       "      <td>0.999213</td>\n",
       "    </tr>\n",
       "    <tr>\n",
       "      <th>3</th>\n",
       "      <td>GBMNA13876-19</td>\n",
       "      <td>Tolypeutes matacus</td>\n",
       "      <td>Xenarthra</td>\n",
       "      <td>0.001925</td>\n",
       "      <td>0.999037</td>\n",
       "      <td>90</td>\n",
       "      <td>105</td>\n",
       "      <td>0</td>\n",
       "      <td>0.999037</td>\n",
       "    </tr>\n",
       "    <tr>\n",
       "      <th>4</th>\n",
       "      <td>GBMTG5926-16</td>\n",
       "      <td>Tolypeutes matacus</td>\n",
       "      <td>Xenarthra</td>\n",
       "      <td>0.001925</td>\n",
       "      <td>0.999037</td>\n",
       "      <td>90</td>\n",
       "      <td>105</td>\n",
       "      <td>0</td>\n",
       "      <td>0.999037</td>\n",
       "    </tr>\n",
       "  </tbody>\n",
       "</table>\n",
       "</div>"
      ],
      "text/plain": [
       "      sequenceID               species      taxon      dist      corr  \\\n",
       "0    GBMA6371-13  Cabassous unicinctus  Xenarthra  0.001599  0.999201   \n",
       "1   GBMTG5358-16  Cabassous unicinctus  Xenarthra  0.001575  0.999213   \n",
       "2  GBMNA13869-19  Cabassous unicinctus  Xenarthra  0.001575  0.999213   \n",
       "3  GBMNA13876-19    Tolypeutes matacus  Xenarthra  0.001925  0.999037   \n",
       "4   GBMTG5926-16    Tolypeutes matacus  Xenarthra  0.001925  0.999037   \n",
       "\n",
       "   pmissing    N  rep     Acorr  \n",
       "0        90  105    0  0.999201  \n",
       "1        90  105    0  0.999213  \n",
       "2        90  105    0  0.999213  \n",
       "3        90  105    0  0.999037  \n",
       "4        90  105    0  0.999037  "
      ]
     },
     "execution_count": 21,
     "metadata": {},
     "output_type": "execute_result"
    }
   ],
   "source": [
    "df=pd.DataFrame(data)\n",
    "df['Acorr'] = df['corr'].abs()\n",
    "df.head()"
   ]
  },
  {
   "cell_type": "code",
   "execution_count": 22,
   "metadata": {},
   "outputs": [
    {
     "data": {
      "text/plain": [
       "<matplotlib.legend.Legend at 0x7fd25a7f76d0>"
      ]
     },
     "execution_count": 22,
     "metadata": {},
     "output_type": "execute_result"
    },
    {
     "data": {
      "image/png": "[encoded data removed]",
      "text/plain": [
       "<Figure size 1008x504 with 1 Axes>"
      ]
     },
     "metadata": {
      "needs_background": "light"
     },
     "output_type": "display_data"
    }
   ],
   "source": [
    "fig,ax = plt.subplots(figsize=(14,7))\n",
    "sns.set(font_scale = 2)\n",
    "sns.boxplot(x='pmissing',y='Acorr', hue='rep',data=df,ax=ax , palette=['grey'])\n",
    "ax.set_ylabel('absolute pearson correlation' )\n",
    "ax.set_xlabel('percentage of missing sequence in the reference')\n",
    "ax.legend([],[], frameon=False)"
   ]
  }
 ],
 "metadata": {
  "kernelspec": {
   "display_name": "Environment (conda_py38)",
   "language": "python",
   "name": "conda_py38"
  },
  "language_info": {
   "codemirror_mode": {
    "name": "ipython",
    "version": 3
   },
   "file_extension": ".py",
   "mimetype": "text/x-python",
   "name": "python",
   "nbconvert_exporter": "python",
   "pygments_lexer": "ipython3",
   "version": "3.8.8"
  }
 },
 "nbformat": 4,
 "nbformat_minor": 2
}
